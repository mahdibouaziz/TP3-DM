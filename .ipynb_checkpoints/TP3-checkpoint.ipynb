{
 "cells": [
  {
   "cell_type": "markdown",
   "id": "0a3a16d1",
   "metadata": {},
   "source": [
    "# I- Jeux de données :"
   ]
  },
  {
   "cell_type": "markdown",
   "id": "2cf4d408",
   "metadata": {},
   "source": [
    "## 1. Iris:"
   ]
  },
  {
   "cell_type": "code",
   "execution_count": 13,
   "id": "a5927667",
   "metadata": {},
   "outputs": [
    {
     "data": {
      "text/html": [
       "\n",
       "        <iframe\n",
       "            width=\"300\"\n",
       "            height=\"200\"\n",
       "            src=\"http://archive.ics.uci.edu/ml/machine-learning-databases/iris/iris.data\"\n",
       "            frameborder=\"0\"\n",
       "            allowfullscreen\n",
       "        ></iframe>\n",
       "        "
      ],
      "text/plain": [
       "<IPython.lib.display.IFrame at 0x28b2144ef40>"
      ]
     },
     "execution_count": 13,
     "metadata": {},
     "output_type": "execute_result"
    }
   ],
   "source": [
    "from IPython.display import IFrame\n",
    "IFrame('http://archive.ics.uci.edu/ml/machine-learning-databases/iris/iris.data',width=300, height=200)"
   ]
  },
  {
   "cell_type": "code",
   "execution_count": 36,
   "id": "3e2dc946",
   "metadata": {},
   "outputs": [
    {
     "name": "stdout",
     "output_type": "stream",
     "text": [
      "[[5.1 3.5 1.4 0.2]\n",
      " [4.9 3.  1.4 0.2]\n",
      " [4.7 3.2 1.3 0.2]\n",
      " [4.6 3.1 1.5 0.2]\n",
      " [5.  3.6 1.4 0.2]\n",
      " [5.4 3.9 1.7 0.4]\n",
      " [4.6 3.4 1.4 0.3]\n",
      " [5.  3.4 1.5 0.2]\n",
      " [4.4 2.9 1.4 0.2]\n",
      " [4.9 3.1 1.5 0.1]\n",
      " [5.4 3.7 1.5 0.2]\n",
      " [4.8 3.4 1.6 0.2]\n",
      " [4.8 3.  1.4 0.1]\n",
      " [4.3 3.  1.1 0.1]\n",
      " [5.8 4.  1.2 0.2]\n",
      " [5.7 4.4 1.5 0.4]\n",
      " [5.4 3.9 1.3 0.4]\n",
      " [5.1 3.5 1.4 0.3]\n",
      " [5.7 3.8 1.7 0.3]\n",
      " [5.1 3.8 1.5 0.3]\n",
      " [5.4 3.4 1.7 0.2]\n",
      " [5.1 3.7 1.5 0.4]\n",
      " [4.6 3.6 1.  0.2]\n",
      " [5.1 3.3 1.7 0.5]\n",
      " [4.8 3.4 1.9 0.2]\n",
      " [5.  3.  1.6 0.2]\n",
      " [5.  3.4 1.6 0.4]\n",
      " [5.2 3.5 1.5 0.2]\n",
      " [5.2 3.4 1.4 0.2]\n",
      " [4.7 3.2 1.6 0.2]\n",
      " [4.8 3.1 1.6 0.2]\n",
      " [5.4 3.4 1.5 0.4]\n",
      " [5.2 4.1 1.5 0.1]\n",
      " [5.5 4.2 1.4 0.2]\n",
      " [4.9 3.1 1.5 0.2]\n",
      " [5.  3.2 1.2 0.2]\n",
      " [5.5 3.5 1.3 0.2]\n",
      " [4.9 3.6 1.4 0.1]\n",
      " [4.4 3.  1.3 0.2]\n",
      " [5.1 3.4 1.5 0.2]\n",
      " [5.  3.5 1.3 0.3]\n",
      " [4.5 2.3 1.3 0.3]\n",
      " [4.4 3.2 1.3 0.2]\n",
      " [5.  3.5 1.6 0.6]\n",
      " [5.1 3.8 1.9 0.4]\n",
      " [4.8 3.  1.4 0.3]\n",
      " [5.1 3.8 1.6 0.2]\n",
      " [4.6 3.2 1.4 0.2]\n",
      " [5.3 3.7 1.5 0.2]\n",
      " [5.  3.3 1.4 0.2]\n",
      " [7.  3.2 4.7 1.4]\n",
      " [6.4 3.2 4.5 1.5]\n",
      " [6.9 3.1 4.9 1.5]\n",
      " [5.5 2.3 4.  1.3]\n",
      " [6.5 2.8 4.6 1.5]\n",
      " [5.7 2.8 4.5 1.3]\n",
      " [6.3 3.3 4.7 1.6]\n",
      " [4.9 2.4 3.3 1. ]\n",
      " [6.6 2.9 4.6 1.3]\n",
      " [5.2 2.7 3.9 1.4]\n",
      " [5.  2.  3.5 1. ]\n",
      " [5.9 3.  4.2 1.5]\n",
      " [6.  2.2 4.  1. ]\n",
      " [6.1 2.9 4.7 1.4]\n",
      " [5.6 2.9 3.6 1.3]\n",
      " [6.7 3.1 4.4 1.4]\n",
      " [5.6 3.  4.5 1.5]\n",
      " [5.8 2.7 4.1 1. ]\n",
      " [6.2 2.2 4.5 1.5]\n",
      " [5.6 2.5 3.9 1.1]\n",
      " [5.9 3.2 4.8 1.8]\n",
      " [6.1 2.8 4.  1.3]\n",
      " [6.3 2.5 4.9 1.5]\n",
      " [6.1 2.8 4.7 1.2]\n",
      " [6.4 2.9 4.3 1.3]\n",
      " [6.6 3.  4.4 1.4]\n",
      " [6.8 2.8 4.8 1.4]\n",
      " [6.7 3.  5.  1.7]\n",
      " [6.  2.9 4.5 1.5]\n",
      " [5.7 2.6 3.5 1. ]\n",
      " [5.5 2.4 3.8 1.1]\n",
      " [5.5 2.4 3.7 1. ]\n",
      " [5.8 2.7 3.9 1.2]\n",
      " [6.  2.7 5.1 1.6]\n",
      " [5.4 3.  4.5 1.5]\n",
      " [6.  3.4 4.5 1.6]\n",
      " [6.7 3.1 4.7 1.5]\n",
      " [6.3 2.3 4.4 1.3]\n",
      " [5.6 3.  4.1 1.3]\n",
      " [5.5 2.5 4.  1.3]\n",
      " [5.5 2.6 4.4 1.2]\n",
      " [6.1 3.  4.6 1.4]\n",
      " [5.8 2.6 4.  1.2]\n",
      " [5.  2.3 3.3 1. ]\n",
      " [5.6 2.7 4.2 1.3]\n",
      " [5.7 3.  4.2 1.2]\n",
      " [5.7 2.9 4.2 1.3]\n",
      " [6.2 2.9 4.3 1.3]\n",
      " [5.1 2.5 3.  1.1]\n",
      " [5.7 2.8 4.1 1.3]\n",
      " [6.3 3.3 6.  2.5]\n",
      " [5.8 2.7 5.1 1.9]\n",
      " [7.1 3.  5.9 2.1]\n",
      " [6.3 2.9 5.6 1.8]\n",
      " [6.5 3.  5.8 2.2]\n",
      " [7.6 3.  6.6 2.1]\n",
      " [4.9 2.5 4.5 1.7]\n",
      " [7.3 2.9 6.3 1.8]\n",
      " [6.7 2.5 5.8 1.8]\n",
      " [7.2 3.6 6.1 2.5]\n",
      " [6.5 3.2 5.1 2. ]\n",
      " [6.4 2.7 5.3 1.9]\n",
      " [6.8 3.  5.5 2.1]\n",
      " [5.7 2.5 5.  2. ]\n",
      " [5.8 2.8 5.1 2.4]\n",
      " [6.4 3.2 5.3 2.3]\n",
      " [6.5 3.  5.5 1.8]\n",
      " [7.7 3.8 6.7 2.2]\n",
      " [7.7 2.6 6.9 2.3]\n",
      " [6.  2.2 5.  1.5]\n",
      " [6.9 3.2 5.7 2.3]\n",
      " [5.6 2.8 4.9 2. ]\n",
      " [7.7 2.8 6.7 2. ]\n",
      " [6.3 2.7 4.9 1.8]\n",
      " [6.7 3.3 5.7 2.1]\n",
      " [7.2 3.2 6.  1.8]\n",
      " [6.2 2.8 4.8 1.8]\n",
      " [6.1 3.  4.9 1.8]\n",
      " [6.4 2.8 5.6 2.1]\n",
      " [7.2 3.  5.8 1.6]\n",
      " [7.4 2.8 6.1 1.9]\n",
      " [7.9 3.8 6.4 2. ]\n",
      " [6.4 2.8 5.6 2.2]\n",
      " [6.3 2.8 5.1 1.5]\n",
      " [6.1 2.6 5.6 1.4]\n",
      " [7.7 3.  6.1 2.3]\n",
      " [6.3 3.4 5.6 2.4]\n",
      " [6.4 3.1 5.5 1.8]\n",
      " [6.  3.  4.8 1.8]\n",
      " [6.9 3.1 5.4 2.1]\n",
      " [6.7 3.1 5.6 2.4]\n",
      " [6.9 3.1 5.1 2.3]\n",
      " [5.8 2.7 5.1 1.9]\n",
      " [6.8 3.2 5.9 2.3]\n",
      " [6.7 3.3 5.7 2.5]\n",
      " [6.7 3.  5.2 2.3]\n",
      " [6.3 2.5 5.  1.9]\n",
      " [6.5 3.  5.2 2. ]\n",
      " [6.2 3.4 5.4 2.3]\n",
      " [5.9 3.  5.1 1.8]]\n",
      "[0 0 0 0 0 0 0 0 0 0 0 0 0 0 0 0 0 0 0 0 0 0 0 0 0 0 0 0 0 0 0 0 0 0 0 0 0\n",
      " 0 0 0 0 0 0 0 0 0 0 0 0 0 1 1 1 1 1 1 1 1 1 1 1 1 1 1 1 1 1 1 1 1 1 1 1 1\n",
      " 1 1 1 1 1 1 1 1 1 1 1 1 1 1 1 1 1 1 1 1 1 1 1 1 1 1 2 2 2 2 2 2 2 2 2 2 2\n",
      " 2 2 2 2 2 2 2 2 2 2 2 2 2 2 2 2 2 2 2 2 2 2 2 2 2 2 2 2 2 2 2 2 2 2 2 2 2\n",
      " 2 2]\n"
     ]
    }
   ],
   "source": [
    "from sklearn import datasets\n",
    "import numpy as np \n",
    "irisData = datasets.load_iris()\n",
    "print (irisData.data)\n",
    "print (irisData.target)"
   ]
  },
  {
   "cell_type": "markdown",
   "id": "fcfc4621",
   "metadata": {},
   "source": [
    "## 2. A vous !"
   ]
  },
  {
   "cell_type": "markdown",
   "id": "57b5d0fd",
   "metadata": {},
   "source": [
    "<strong>Question a:</strong> <br>\n",
    "comment sont réparties les données dans les tableaux ? <br/>\n",
    "Combien y a-t-il de données dans chaque classe ?<br/> \n",
    "Quels sont les attributs et la classe du 32ème élément de l'échantillon ?"
   ]
  },
  {
   "cell_type": "code",
   "execution_count": 37,
   "id": "200253bd",
   "metadata": {},
   "outputs": [
    {
     "name": "stdout",
     "output_type": "stream",
     "text": [
      "['sepal length (cm)', 'sepal width (cm)', 'petal length (cm)', 'petal width (cm)']\n",
      "['setosa' 'versicolor' 'virginica']\n"
     ]
    }
   ],
   "source": [
    "print(irisData.feature_names)\n",
    "print(irisData.target_names)"
   ]
  },
  {
   "cell_type": "code",
   "execution_count": 38,
   "id": "e07a993f",
   "metadata": {},
   "outputs": [
    {
     "name": "stdout",
     "output_type": "stream",
     "text": [
      "La Classe N° 0 contient: 50\n",
      "La Classe N° 1 contient: 50\n",
      "La Classe N° 2 contient: 50\n"
     ]
    }
   ],
   "source": [
    "for i in range(3):\n",
    "    print(\"La Classe N°\",i,\"contient:\", len(irisData.target[irisData.target==i]) )"
   ]
  },
  {
   "cell_type": "markdown",
   "id": "b6541275",
   "metadata": {},
   "source": [
    "<strong>Question b:</strong> <br>Commenter ce code "
   ]
  },
  {
   "cell_type": "code",
   "execution_count": 39,
   "id": "131916c7",
   "metadata": {},
   "outputs": [],
   "source": [
    "import matplotlib\n",
    "from itertools import cycle\n",
    "import pylab as pl\n",
    "def plot_2D(data, target, target_names):\n",
    "    colors = cycle('rgbcmykw') # cycle de couleurs\n",
    "    target_ids = range(len(target_names))\n",
    "    pl.figure()\n",
    "    for i, c, label in zip(target_ids, colors, target_names):\n",
    "        pl.scatter(data[target == i, 2], data[target == i, 3], c=c, label=label)\n",
    "    pl.legend()\n",
    "    pl.plot([2.5,2.5],[0,3])\n",
    "    pl.show()\n"
   ]
  },
  {
   "cell_type": "code",
   "execution_count": 40,
   "id": "91a96cee",
   "metadata": {},
   "outputs": [
    {
     "data": {
      "image/png": "[encoded data removed]",
      "text/plain": [
       "<Figure size 432x288 with 1 Axes>"
      ]
     },
     "metadata": {
      "needs_background": "light"
     },
     "output_type": "display_data"
    }
   ],
   "source": [
    "plot_2D (irisData.data,irisData.target,irisData.target_names)"
   ]
  },
  {
   "cell_type": "markdown",
   "id": "b9d9d526",
   "metadata": {},
   "source": [
    "### Question C !!!!!!!"
   ]
  },
  {
   "cell_type": "markdown",
   "id": "235552f4",
   "metadata": {},
   "source": [
    "Est-ce qu'il existe un espace 2D (constitué de deux attributs) dans lequel une droite \n",
    "(parmi d'autres) permettrait de séparer les exemples d'une classe des exemples des deux \n",
    "autres classes ? Si oui, fournir une équation de cette droite.\n"
   ]
  },
  {
   "cell_type": "code",
   "execution_count": null,
   "id": "52d0ca3f",
   "metadata": {},
   "outputs": [],
   "source": []
  },
  {
   "cell_type": "markdown",
   "id": "f18839d8",
   "metadata": {},
   "source": [
    "# II- Un premier apprentissage de classiffieur\n"
   ]
  },
  {
   "cell_type": "markdown",
   "id": "28b91418",
   "metadata": {},
   "source": [
    "## 1. La variable clf :"
   ]
  },
  {
   "cell_type": "markdown",
   "id": "14c6072c",
   "metadata": {},
   "source": [
    "Sous scikit-learn, dans toute méthode de classification (tout estimateur) représentée par la variable <strong>clf</strong>, il existe deux fonctions essentielles : <br> <br>\n",
    "a. La fonction <strong>clf.fit(tab_data, tab_target) </strong> qui apprend un modèle à partir des données (ce modèle est stocké en interne dans un enregistrement de la variable clf). <br> <br>\n",
    "b. La fonction <strong> clf.predict(tab_data) </strong> qui renvoie un tableau qui stocke, pour \n",
    "chaque nouvelle donnée en entrée, la classe prédite par le modèle précédemment appris via l'estimateur clf."
   ]
  },
  {
   "cell_type": "markdown",
   "id": "79fe852a",
   "metadata": {},
   "source": [
    "## 2. A vous! "
   ]
  },
  {
   "cell_type": "code",
   "execution_count": 41,
   "id": "ba772fa2",
   "metadata": {},
   "outputs": [
    {
     "name": "stdout",
     "output_type": "stream",
     "text": [
      "[0]\n",
      "[2]\n",
      "[0 0 0 0 0 0 0 0 0 0 0 0 0 0 0 0 0 0 0 0 0 0 0 0 0 0 0 0 0 0 0 0 0 0 0 0 0\n",
      " 0 0 0 0 0 0 0 0 0 0 0 0 0 1 1 1 1 1 1 1 1 1 1 1 1 1 1 1 1 1 1 1 1 1 1 1 1\n",
      " 1 1 1 1 1 1 1 1 1 2 1 1 1 1 1 1 1 1 1 1 1 1 1 1 1 1 2 2 2 2 2 2 2 2 2 2 2\n",
      " 2 2 2 2 2 2 2 2 2 2 2 2 2 2 1 2 2 2 1 2 1 2 1 2 2 2 2 2 2 2 2 2 2 2 2 2 2\n",
      " 2 2]\n"
     ]
    }
   ],
   "source": [
    "from sklearn import naive_bayes\n",
    "nb = naive_bayes.MultinomialNB(fit_prior=True)# un algo d'apprentissage\n",
    "irisData = datasets.load_iris()\n",
    "nb.fit(irisData.data[:-1], irisData.target[:-1])\n",
    "p31 = nb.predict([irisData.data[31]])\n",
    "print (p31)\n",
    "plast = nb.predict([irisData.data[-1]])\n",
    "print (plast)\n",
    "p = nb.predict(irisData.data[:])\n",
    "print (p)"
   ]
  },
  {
   "cell_type": "markdown",
   "id": "2c28357b",
   "metadata": {},
   "source": [
    "<strong>Question a:</strong> <br>Interpreter le resultat"
   ]
  },
  {
   "cell_type": "code",
   "execution_count": 42,
   "id": "42d88cd1",
   "metadata": {},
   "outputs": [
    {
     "name": "stdout",
     "output_type": "stream",
     "text": [
      "[1 1 1 1 1 1 1 1 1 1 1 1 1 1 1 1 1 1 1 1 1 1 1 1 1 1 1 1 1 1 1 1 1 1 1 1 1\n",
      " 1 1 1 1 1 1 1 1 1 1 1 1]\n"
     ]
    }
   ],
   "source": [
    "from sklearn import naive_bayes\n",
    "irisData = datasets.load_iris()\n",
    "nb = naive_bayes.MultinomialNB(fit_prior=True)\n",
    "nb.fit(irisData.data[:99], irisData.target[:99])\n",
    "p2=nb.predict(irisData.data[100:149])\n",
    "print(p2)\n"
   ]
  },
  {
   "cell_type": "markdown",
   "id": "0ccb2de1",
   "metadata": {},
   "source": [
    "<strong>Question b:</strong> <br>\n",
    "que réalise le programme ci-dessous ?<br/> Les résultats vous semblent-ils cohérents ? <br/> \n",
    "Comment interpréter les résultats ? <br/>\n",
    "Que proposez-vous pour équilibrer l'ensemble d'apprentissage et l'ensemble de test ?\n"
   ]
  },
  {
   "cell_type": "markdown",
   "id": "793bb0c4",
   "metadata": {},
   "source": [
    "# III- Evaluer les performances d'un classiffieur\n"
   ]
  },
  {
   "cell_type": "markdown",
   "id": "2e443ca1",
   "metadata": {},
   "source": [
    "## 1. Performances sur l'ensemble d'apprentissage"
   ]
  },
  {
   "cell_type": "markdown",
   "id": "f12a4a8b",
   "metadata": {},
   "source": [
    "<strong> Question1 </strong>"
   ]
  },
  {
   "cell_type": "code",
   "execution_count": 43,
   "id": "2987ee75",
   "metadata": {},
   "outputs": [
    {
     "name": "stdout",
     "output_type": "stream",
     "text": [
      "0.03333333333333333\n"
     ]
    }
   ],
   "source": [
    "ea = 0\n",
    "for i in range(len(irisData.data)):\n",
    "    if (p[i] != irisData.target[i]):\n",
    "        ea = ea+1\n",
    "print(ea/len(irisData.data))\n",
    "\n",
    "y=irisData.target"
   ]
  },
  {
   "cell_type": "markdown",
   "id": "3202e28b",
   "metadata": {},
   "source": [
    "<strong> Question2 </strong>"
   ]
  },
  {
   "cell_type": "code",
   "execution_count": 44,
   "id": "a62c34a3",
   "metadata": {},
   "outputs": [
    {
     "name": "stdout",
     "output_type": "stream",
     "text": [
      "non Zeros 5\n",
      "dataLength:  150\n",
      "0.03333333333333333\n"
     ]
    }
   ],
   "source": [
    "error = p-y\n",
    "errorArray = np.array(error)\n",
    "nonZeros=np.count_nonzero(errorArray)\n",
    "print(\"non Zeros\",nonZeros)\n",
    "print (\"dataLength: \",len(irisData.target))\n",
    "dataLength=len(irisData.target)\n",
    "print(nonZeros/dataLength)"
   ]
  },
  {
   "cell_type": "markdown",
   "id": "f7f83511",
   "metadata": {},
   "source": [
    "<strong> Question3 </strong>"
   ]
  },
  {
   "cell_type": "code",
   "execution_count": 45,
   "id": "3bea7c8b",
   "metadata": {},
   "outputs": [],
   "source": [
    "x=irisData.data\n",
    "y=irisData.target"
   ]
  },
  {
   "cell_type": "markdown",
   "id": "76af10fb",
   "metadata": {},
   "source": [
    "Methode1:"
   ]
  },
  {
   "cell_type": "code",
   "execution_count": 46,
   "id": "f69c474d",
   "metadata": {},
   "outputs": [
    {
     "name": "stdout",
     "output_type": "stream",
     "text": [
      "0.9666666666666667\n"
     ]
    }
   ],
   "source": [
    "print(1- (nonZeros/dataLength) )"
   ]
  },
  {
   "cell_type": "markdown",
   "id": "611990f4",
   "metadata": {},
   "source": [
    "Methode2:"
   ]
  },
  {
   "cell_type": "code",
   "execution_count": 48,
   "id": "c5d80f40",
   "metadata": {},
   "outputs": [
    {
     "data": {
      "text/plain": [
       "0.6666666666666666"
      ]
     },
     "execution_count": 48,
     "metadata": {},
     "output_type": "execute_result"
    }
   ],
   "source": [
    "nb.score(x,y)"
   ]
  },
  {
   "cell_type": "markdown",
   "id": "02e75f8d",
   "metadata": {},
   "source": [
    "<strong>question:</strong>\n",
    " Pour chacune, quelle erreur apparente obtenez-vous ? (Priez pour que ce \n",
    "soit la même ! Sinon, vous vous êtes trompés quelque part...). Sur quelle(s) données (s) y a-t-il\n",
    "une erreur de prédiction ?"
   ]
  },
  {
   "cell_type": "code",
   "execution_count": null,
   "id": "7c935a6f",
   "metadata": {},
   "outputs": [],
   "source": []
  },
  {
   "cell_type": "markdown",
   "id": "7f36778e",
   "metadata": {},
   "source": [
    "## 2. Performances en généralisation"
   ]
  },
  {
   "cell_type": "markdown",
   "id": "d6adc2db",
   "metadata": {},
   "source": [
    "### 2.1. Estimer l'erreur réelle par division de l'échantillon d'apprentissag"
   ]
  },
  {
   "cell_type": "markdown",
   "id": "112ffbd1",
   "metadata": {},
   "source": [
    "#### Question a"
   ]
  },
  {
   "cell_type": "code",
   "execution_count": 50,
   "id": "cedac6e2",
   "metadata": {},
   "outputs": [],
   "source": [
    "import random as rd\n",
    "def split(S):\n",
    "    dataS1 = np.empty(shape=(100,4))\n",
    "    targetS1= np.empty(shape=(100))\n",
    "    dataS2 = S.data\n",
    "    targetS2 = S.target\n",
    "    # La taille est 2/3 S\n",
    "    size= int(2*len(S.data)/3)\n",
    "    for i in range(0,size):\n",
    "        j = rd.randint(0,len(dataS2)-1)\n",
    "        dataS1[i] = dataS2[j]\n",
    "        targetS1[i] = targetS2[j]\n",
    "        dataS2 = np.delete(dataS2 , j,0)\n",
    "        targetS2 = np.delete(targetS2,j,0)\n",
    "        \n",
    "    return [dataS1 , targetS1 , dataS2 , targetS2]"
   ]
  },
  {
   "cell_type": "markdown",
   "id": "19e49d30",
   "metadata": {},
   "source": [
    "#### Question b"
   ]
  },
  {
   "cell_type": "code",
   "execution_count": 52,
   "id": "3b44dd28",
   "metadata": {},
   "outputs": [],
   "source": [
    "def test(S , clf):\n",
    "    # S :  [dataS1 , targetS1 , dataS2 , targetS2]\n",
    "    clf.fit(S[0],S[1])\n",
    "    clf.predict(S[2])\n",
    "    clf.score(S[2],S[3])\n",
    "    return 1 - clf.score(S[2],S[3])\n"
   ]
  },
  {
   "cell_type": "code",
   "execution_count": 53,
   "id": "fffff3cd",
   "metadata": {},
   "outputs": [
    {
     "name": "stdout",
     "output_type": "stream",
     "text": [
      "0.18000000000000005\n"
     ]
    }
   ],
   "source": [
    "# S : irisdata \n",
    "# clf = naive bayes\n",
    "from sklearn import naive_bayes\n",
    "from sklearn.tree import DecisionTreeClassifier\n",
    "clf = naive_bayes.MultinomialNB(fit_prior=True)\n",
    "#clf = DecisionTreeClassifier(random_state=0)\n",
    "Ss = split(irisData)\n",
    "error  = test(Ss , clf)\n",
    "print(error)"
   ]
  },
  {
   "cell_type": "markdown",
   "id": "220b2ff6",
   "metadata": {},
   "source": [
    "#### Question c"
   ]
  },
  {
   "cell_type": "code",
   "execution_count": 54,
   "id": "81090d69",
   "metadata": {},
   "outputs": [],
   "source": [
    "def test_with_iterations(S , clf ,t):\n",
    "    moy_err = 0 \n",
    "    for i in range(t):\n",
    "        e = test(S , clf)\n",
    "        moy_err = moy_err+e\n",
    "    return moy_err/t"
   ]
  },
  {
   "cell_type": "code",
   "execution_count": 55,
   "id": "0221e5fe",
   "metadata": {},
   "outputs": [
    {
     "name": "stdout",
     "output_type": "stream",
     "text": [
      "erreur avec t= 10 0.18000000000000008\n",
      "erreur avec t= 50 0.17999999999999988\n",
      "erreur avec t= 100 0.17999999999999983\n",
      "erreur avec t= 200 0.1799999999999998\n",
      "erreur avec t= 500 0.1800000000000018\n",
      "erreur avec t= 1000 0.1800000000000043\n",
      "---------------\n",
      "erreur avec t= 10 0.18000000000000008\n",
      "erreur avec t= 50 0.17999999999999988\n",
      "erreur avec t= 100 0.17999999999999983\n",
      "erreur avec t= 200 0.1799999999999998\n",
      "erreur avec t= 500 0.1800000000000018\n",
      "erreur avec t= 1000 0.1800000000000043\n",
      "---------------\n",
      "erreur avec t= 10 0.18000000000000008\n",
      "erreur avec t= 50 0.17999999999999988\n",
      "erreur avec t= 100 0.17999999999999983\n",
      "erreur avec t= 200 0.1799999999999998\n",
      "erreur avec t= 500 0.1800000000000018\n",
      "erreur avec t= 1000 0.1800000000000043\n",
      "---------------\n",
      "erreur avec t= 10 0.18000000000000008\n",
      "erreur avec t= 50 0.17999999999999988\n",
      "erreur avec t= 100 0.17999999999999983\n",
      "erreur avec t= 200 0.1799999999999998\n",
      "erreur avec t= 500 0.1800000000000018\n",
      "erreur avec t= 1000 0.1800000000000043\n",
      "---------------\n",
      "erreur avec t= 10 0.18000000000000008\n",
      "erreur avec t= 50 0.17999999999999988\n",
      "erreur avec t= 100 0.17999999999999983\n",
      "erreur avec t= 200 0.1799999999999998\n",
      "erreur avec t= 500 0.1800000000000018\n",
      "erreur avec t= 1000 0.1800000000000043\n",
      "---------------\n",
      "erreur avec t= 10 0.18000000000000008\n",
      "erreur avec t= 50 0.17999999999999988\n",
      "erreur avec t= 100 0.17999999999999983\n",
      "erreur avec t= 200 0.1799999999999998\n",
      "erreur avec t= 500 0.1800000000000018\n",
      "erreur avec t= 1000 0.1800000000000043\n",
      "---------------\n",
      "erreur avec t= 10 0.18000000000000008\n",
      "erreur avec t= 50 0.17999999999999988\n",
      "erreur avec t= 100 0.17999999999999983\n",
      "erreur avec t= 200 0.1799999999999998\n",
      "erreur avec t= 500 0.1800000000000018\n"
     ]
    },
    {
     "ename": "KeyboardInterrupt",
     "evalue": "",
     "output_type": "error",
     "traceback": [
      "\u001b[1;31m---------------------------------------------------------------------------\u001b[0m",
      "\u001b[1;31mKeyboardInterrupt\u001b[0m                         Traceback (most recent call last)",
      "\u001b[1;32m<ipython-input-55-61d6ba63f99d>\u001b[0m in \u001b[0;36m<module>\u001b[1;34m\u001b[0m\n\u001b[0;32m      5\u001b[0m     \u001b[0mprint\u001b[0m\u001b[1;33m(\u001b[0m\u001b[1;34m\"erreur avec t= 200\"\u001b[0m\u001b[1;33m,\u001b[0m\u001b[0mtest_with_iterations\u001b[0m\u001b[1;33m(\u001b[0m\u001b[0mSs\u001b[0m\u001b[1;33m,\u001b[0m \u001b[0mclf\u001b[0m\u001b[1;33m,\u001b[0m\u001b[0mt\u001b[0m\u001b[1;33m=\u001b[0m\u001b[1;36m200\u001b[0m\u001b[1;33m)\u001b[0m\u001b[1;33m)\u001b[0m\u001b[1;33m\u001b[0m\u001b[1;33m\u001b[0m\u001b[0m\n\u001b[0;32m      6\u001b[0m     \u001b[0mprint\u001b[0m\u001b[1;33m(\u001b[0m\u001b[1;34m\"erreur avec t= 500\"\u001b[0m\u001b[1;33m,\u001b[0m\u001b[0mtest_with_iterations\u001b[0m\u001b[1;33m(\u001b[0m\u001b[0mSs\u001b[0m \u001b[1;33m,\u001b[0m \u001b[0mclf\u001b[0m\u001b[1;33m,\u001b[0m\u001b[0mt\u001b[0m\u001b[1;33m=\u001b[0m\u001b[1;36m500\u001b[0m\u001b[1;33m)\u001b[0m\u001b[1;33m)\u001b[0m\u001b[1;33m\u001b[0m\u001b[1;33m\u001b[0m\u001b[0m\n\u001b[1;32m----> 7\u001b[1;33m     \u001b[0mprint\u001b[0m\u001b[1;33m(\u001b[0m\u001b[1;34m\"erreur avec t= 1000\"\u001b[0m\u001b[1;33m,\u001b[0m\u001b[0mtest_with_iterations\u001b[0m\u001b[1;33m(\u001b[0m\u001b[0mSs\u001b[0m \u001b[1;33m,\u001b[0m \u001b[0mclf\u001b[0m \u001b[1;33m,\u001b[0m\u001b[0mt\u001b[0m\u001b[1;33m=\u001b[0m\u001b[1;36m1000\u001b[0m\u001b[1;33m)\u001b[0m\u001b[1;33m)\u001b[0m\u001b[1;33m\u001b[0m\u001b[1;33m\u001b[0m\u001b[0m\n\u001b[0m\u001b[0;32m      8\u001b[0m     \u001b[0mprint\u001b[0m\u001b[1;33m(\u001b[0m\u001b[1;34m\"\"\"---------------\"\"\"\u001b[0m\u001b[1;33m)\u001b[0m\u001b[1;33m\u001b[0m\u001b[1;33m\u001b[0m\u001b[0m\n\u001b[0;32m      9\u001b[0m \u001b[0mprint\u001b[0m\u001b[1;33m(\u001b[0m\u001b[1;34m\"pour chaque t, l'erreur moyenne est stable\"\u001b[0m\u001b[1;33m)\u001b[0m\u001b[1;33m\u001b[0m\u001b[1;33m\u001b[0m\u001b[0m\n",
      "\u001b[1;32m<ipython-input-54-b4bf6ee58a53>\u001b[0m in \u001b[0;36mtest_with_iterations\u001b[1;34m(S, clf, t)\u001b[0m\n\u001b[0;32m      2\u001b[0m     \u001b[0mmoy_err\u001b[0m \u001b[1;33m=\u001b[0m \u001b[1;36m0\u001b[0m\u001b[1;33m\u001b[0m\u001b[1;33m\u001b[0m\u001b[0m\n\u001b[0;32m      3\u001b[0m     \u001b[1;32mfor\u001b[0m \u001b[0mi\u001b[0m \u001b[1;32min\u001b[0m \u001b[0mrange\u001b[0m\u001b[1;33m(\u001b[0m\u001b[0mt\u001b[0m\u001b[1;33m)\u001b[0m\u001b[1;33m:\u001b[0m\u001b[1;33m\u001b[0m\u001b[1;33m\u001b[0m\u001b[0m\n\u001b[1;32m----> 4\u001b[1;33m         \u001b[0me\u001b[0m \u001b[1;33m=\u001b[0m \u001b[0mtest\u001b[0m\u001b[1;33m(\u001b[0m\u001b[0mS\u001b[0m \u001b[1;33m,\u001b[0m \u001b[0mclf\u001b[0m\u001b[1;33m)\u001b[0m\u001b[1;33m\u001b[0m\u001b[1;33m\u001b[0m\u001b[0m\n\u001b[0m\u001b[0;32m      5\u001b[0m         \u001b[0mmoy_err\u001b[0m \u001b[1;33m=\u001b[0m \u001b[0mmoy_err\u001b[0m\u001b[1;33m+\u001b[0m\u001b[0me\u001b[0m\u001b[1;33m\u001b[0m\u001b[1;33m\u001b[0m\u001b[0m\n\u001b[0;32m      6\u001b[0m     \u001b[1;32mreturn\u001b[0m \u001b[0mmoy_err\u001b[0m\u001b[1;33m/\u001b[0m\u001b[0mt\u001b[0m\u001b[1;33m\u001b[0m\u001b[1;33m\u001b[0m\u001b[0m\n",
      "\u001b[1;32m<ipython-input-52-d2b4d250c5ab>\u001b[0m in \u001b[0;36mtest\u001b[1;34m(S, clf)\u001b[0m\n\u001b[0;32m      1\u001b[0m \u001b[1;32mdef\u001b[0m \u001b[0mtest\u001b[0m\u001b[1;33m(\u001b[0m\u001b[0mS\u001b[0m \u001b[1;33m,\u001b[0m \u001b[0mclf\u001b[0m\u001b[1;33m)\u001b[0m\u001b[1;33m:\u001b[0m\u001b[1;33m\u001b[0m\u001b[1;33m\u001b[0m\u001b[0m\n\u001b[0;32m      2\u001b[0m     \u001b[1;31m# S :  [dataS1 , targetS1 , dataS2 , targetS2]\u001b[0m\u001b[1;33m\u001b[0m\u001b[1;33m\u001b[0m\u001b[1;33m\u001b[0m\u001b[0m\n\u001b[1;32m----> 3\u001b[1;33m     \u001b[0mclf\u001b[0m\u001b[1;33m.\u001b[0m\u001b[0mfit\u001b[0m\u001b[1;33m(\u001b[0m\u001b[0mS\u001b[0m\u001b[1;33m[\u001b[0m\u001b[1;36m0\u001b[0m\u001b[1;33m]\u001b[0m\u001b[1;33m,\u001b[0m\u001b[0mS\u001b[0m\u001b[1;33m[\u001b[0m\u001b[1;36m1\u001b[0m\u001b[1;33m]\u001b[0m\u001b[1;33m)\u001b[0m\u001b[1;33m\u001b[0m\u001b[1;33m\u001b[0m\u001b[0m\n\u001b[0m\u001b[0;32m      4\u001b[0m     \u001b[0mclf\u001b[0m\u001b[1;33m.\u001b[0m\u001b[0mpredict\u001b[0m\u001b[1;33m(\u001b[0m\u001b[0mS\u001b[0m\u001b[1;33m[\u001b[0m\u001b[1;36m2\u001b[0m\u001b[1;33m]\u001b[0m\u001b[1;33m)\u001b[0m\u001b[1;33m\u001b[0m\u001b[1;33m\u001b[0m\u001b[0m\n\u001b[0;32m      5\u001b[0m     \u001b[0mclf\u001b[0m\u001b[1;33m.\u001b[0m\u001b[0mscore\u001b[0m\u001b[1;33m(\u001b[0m\u001b[0mS\u001b[0m\u001b[1;33m[\u001b[0m\u001b[1;36m2\u001b[0m\u001b[1;33m]\u001b[0m\u001b[1;33m,\u001b[0m\u001b[0mS\u001b[0m\u001b[1;33m[\u001b[0m\u001b[1;36m3\u001b[0m\u001b[1;33m]\u001b[0m\u001b[1;33m)\u001b[0m\u001b[1;33m\u001b[0m\u001b[1;33m\u001b[0m\u001b[0m\n",
      "\u001b[1;32m~\\anaconda3\\lib\\site-packages\\sklearn\\naive_bayes.py\u001b[0m in \u001b[0;36mfit\u001b[1;34m(self, X, y, sample_weight)\u001b[0m\n\u001b[0;32m    615\u001b[0m \u001b[1;33m\u001b[0m\u001b[0m\n\u001b[0;32m    616\u001b[0m         \u001b[0mlabelbin\u001b[0m \u001b[1;33m=\u001b[0m \u001b[0mLabelBinarizer\u001b[0m\u001b[1;33m(\u001b[0m\u001b[1;33m)\u001b[0m\u001b[1;33m\u001b[0m\u001b[1;33m\u001b[0m\u001b[0m\n\u001b[1;32m--> 617\u001b[1;33m         \u001b[0mY\u001b[0m \u001b[1;33m=\u001b[0m \u001b[0mlabelbin\u001b[0m\u001b[1;33m.\u001b[0m\u001b[0mfit_transform\u001b[0m\u001b[1;33m(\u001b[0m\u001b[0my\u001b[0m\u001b[1;33m)\u001b[0m\u001b[1;33m\u001b[0m\u001b[1;33m\u001b[0m\u001b[0m\n\u001b[0m\u001b[0;32m    618\u001b[0m         \u001b[0mself\u001b[0m\u001b[1;33m.\u001b[0m\u001b[0mclasses_\u001b[0m \u001b[1;33m=\u001b[0m \u001b[0mlabelbin\u001b[0m\u001b[1;33m.\u001b[0m\u001b[0mclasses_\u001b[0m\u001b[1;33m\u001b[0m\u001b[1;33m\u001b[0m\u001b[0m\n\u001b[0;32m    619\u001b[0m         \u001b[1;32mif\u001b[0m \u001b[0mY\u001b[0m\u001b[1;33m.\u001b[0m\u001b[0mshape\u001b[0m\u001b[1;33m[\u001b[0m\u001b[1;36m1\u001b[0m\u001b[1;33m]\u001b[0m \u001b[1;33m==\u001b[0m \u001b[1;36m1\u001b[0m\u001b[1;33m:\u001b[0m\u001b[1;33m\u001b[0m\u001b[1;33m\u001b[0m\u001b[0m\n",
      "\u001b[1;32m~\\anaconda3\\lib\\site-packages\\sklearn\\preprocessing\\_label.py\u001b[0m in \u001b[0;36mfit_transform\u001b[1;34m(self, y)\u001b[0m\n\u001b[0;32m    319\u001b[0m             \u001b[0mwill\u001b[0m \u001b[0mbe\u001b[0m \u001b[0mof\u001b[0m \u001b[0mCSR\u001b[0m \u001b[0mformat\u001b[0m\u001b[1;33m.\u001b[0m\u001b[1;33m\u001b[0m\u001b[1;33m\u001b[0m\u001b[0m\n\u001b[0;32m    320\u001b[0m         \"\"\"\n\u001b[1;32m--> 321\u001b[1;33m         \u001b[1;32mreturn\u001b[0m \u001b[0mself\u001b[0m\u001b[1;33m.\u001b[0m\u001b[0mfit\u001b[0m\u001b[1;33m(\u001b[0m\u001b[0my\u001b[0m\u001b[1;33m)\u001b[0m\u001b[1;33m.\u001b[0m\u001b[0mtransform\u001b[0m\u001b[1;33m(\u001b[0m\u001b[0my\u001b[0m\u001b[1;33m)\u001b[0m\u001b[1;33m\u001b[0m\u001b[1;33m\u001b[0m\u001b[0m\n\u001b[0m\u001b[0;32m    322\u001b[0m \u001b[1;33m\u001b[0m\u001b[0m\n\u001b[0;32m    323\u001b[0m     \u001b[1;32mdef\u001b[0m \u001b[0mtransform\u001b[0m\u001b[1;33m(\u001b[0m\u001b[0mself\u001b[0m\u001b[1;33m,\u001b[0m \u001b[0my\u001b[0m\u001b[1;33m)\u001b[0m\u001b[1;33m:\u001b[0m\u001b[1;33m\u001b[0m\u001b[1;33m\u001b[0m\u001b[0m\n",
      "\u001b[1;32m~\\anaconda3\\lib\\site-packages\\sklearn\\preprocessing\\_label.py\u001b[0m in \u001b[0;36mtransform\u001b[1;34m(self, y)\u001b[0m\n\u001b[0;32m    348\u001b[0m                              \" input.\")\n\u001b[0;32m    349\u001b[0m \u001b[1;33m\u001b[0m\u001b[0m\n\u001b[1;32m--> 350\u001b[1;33m         return label_binarize(y, classes=self.classes_,\n\u001b[0m\u001b[0;32m    351\u001b[0m                               \u001b[0mpos_label\u001b[0m\u001b[1;33m=\u001b[0m\u001b[0mself\u001b[0m\u001b[1;33m.\u001b[0m\u001b[0mpos_label\u001b[0m\u001b[1;33m,\u001b[0m\u001b[1;33m\u001b[0m\u001b[1;33m\u001b[0m\u001b[0m\n\u001b[0;32m    352\u001b[0m                               \u001b[0mneg_label\u001b[0m\u001b[1;33m=\u001b[0m\u001b[0mself\u001b[0m\u001b[1;33m.\u001b[0m\u001b[0mneg_label\u001b[0m\u001b[1;33m,\u001b[0m\u001b[1;33m\u001b[0m\u001b[1;33m\u001b[0m\u001b[0m\n",
      "\u001b[1;32m~\\anaconda3\\lib\\site-packages\\sklearn\\utils\\validation.py\u001b[0m in \u001b[0;36minner_f\u001b[1;34m(*args, **kwargs)\u001b[0m\n\u001b[0;32m     61\u001b[0m             \u001b[0mextra_args\u001b[0m \u001b[1;33m=\u001b[0m \u001b[0mlen\u001b[0m\u001b[1;33m(\u001b[0m\u001b[0margs\u001b[0m\u001b[1;33m)\u001b[0m \u001b[1;33m-\u001b[0m \u001b[0mlen\u001b[0m\u001b[1;33m(\u001b[0m\u001b[0mall_args\u001b[0m\u001b[1;33m)\u001b[0m\u001b[1;33m\u001b[0m\u001b[1;33m\u001b[0m\u001b[0m\n\u001b[0;32m     62\u001b[0m             \u001b[1;32mif\u001b[0m \u001b[0mextra_args\u001b[0m \u001b[1;33m<=\u001b[0m \u001b[1;36m0\u001b[0m\u001b[1;33m:\u001b[0m\u001b[1;33m\u001b[0m\u001b[1;33m\u001b[0m\u001b[0m\n\u001b[1;32m---> 63\u001b[1;33m                 \u001b[1;32mreturn\u001b[0m \u001b[0mf\u001b[0m\u001b[1;33m(\u001b[0m\u001b[1;33m*\u001b[0m\u001b[0margs\u001b[0m\u001b[1;33m,\u001b[0m \u001b[1;33m**\u001b[0m\u001b[0mkwargs\u001b[0m\u001b[1;33m)\u001b[0m\u001b[1;33m\u001b[0m\u001b[1;33m\u001b[0m\u001b[0m\n\u001b[0m\u001b[0;32m     64\u001b[0m \u001b[1;33m\u001b[0m\u001b[0m\n\u001b[0;32m     65\u001b[0m             \u001b[1;31m# extra_args > 0\u001b[0m\u001b[1;33m\u001b[0m\u001b[1;33m\u001b[0m\u001b[1;33m\u001b[0m\u001b[0m\n",
      "\u001b[1;32m~\\anaconda3\\lib\\site-packages\\sklearn\\preprocessing\\_label.py\u001b[0m in \u001b[0;36mlabel_binarize\u001b[1;34m(y, classes, neg_label, pos_label, sparse_output)\u001b[0m\n\u001b[0;32m    528\u001b[0m         \u001b[0my_seen\u001b[0m \u001b[1;33m=\u001b[0m \u001b[0my\u001b[0m\u001b[1;33m[\u001b[0m\u001b[0my_in_classes\u001b[0m\u001b[1;33m]\u001b[0m\u001b[1;33m\u001b[0m\u001b[1;33m\u001b[0m\u001b[0m\n\u001b[0;32m    529\u001b[0m         \u001b[0mindices\u001b[0m \u001b[1;33m=\u001b[0m \u001b[0mnp\u001b[0m\u001b[1;33m.\u001b[0m\u001b[0msearchsorted\u001b[0m\u001b[1;33m(\u001b[0m\u001b[0msorted_class\u001b[0m\u001b[1;33m,\u001b[0m \u001b[0my_seen\u001b[0m\u001b[1;33m)\u001b[0m\u001b[1;33m\u001b[0m\u001b[1;33m\u001b[0m\u001b[0m\n\u001b[1;32m--> 530\u001b[1;33m         \u001b[0mindptr\u001b[0m \u001b[1;33m=\u001b[0m \u001b[0mnp\u001b[0m\u001b[1;33m.\u001b[0m\u001b[0mhstack\u001b[0m\u001b[1;33m(\u001b[0m\u001b[1;33m(\u001b[0m\u001b[1;36m0\u001b[0m\u001b[1;33m,\u001b[0m \u001b[0mnp\u001b[0m\u001b[1;33m.\u001b[0m\u001b[0mcumsum\u001b[0m\u001b[1;33m(\u001b[0m\u001b[0my_in_classes\u001b[0m\u001b[1;33m)\u001b[0m\u001b[1;33m)\u001b[0m\u001b[1;33m)\u001b[0m\u001b[1;33m\u001b[0m\u001b[1;33m\u001b[0m\u001b[0m\n\u001b[0m\u001b[0;32m    531\u001b[0m \u001b[1;33m\u001b[0m\u001b[0m\n\u001b[0;32m    532\u001b[0m         \u001b[0mdata\u001b[0m \u001b[1;33m=\u001b[0m \u001b[0mnp\u001b[0m\u001b[1;33m.\u001b[0m\u001b[0mempty_like\u001b[0m\u001b[1;33m(\u001b[0m\u001b[0mindices\u001b[0m\u001b[1;33m)\u001b[0m\u001b[1;33m\u001b[0m\u001b[1;33m\u001b[0m\u001b[0m\n",
      "\u001b[1;32m<__array_function__ internals>\u001b[0m in \u001b[0;36mcumsum\u001b[1;34m(*args, **kwargs)\u001b[0m\n",
      "\u001b[1;32m~\\anaconda3\\lib\\site-packages\\numpy\\core\\fromnumeric.py\u001b[0m in \u001b[0;36mcumsum\u001b[1;34m(a, axis, dtype, out)\u001b[0m\n\u001b[0;32m   2509\u001b[0m \u001b[1;33m\u001b[0m\u001b[0m\n\u001b[0;32m   2510\u001b[0m     \"\"\"\n\u001b[1;32m-> 2511\u001b[1;33m     \u001b[1;32mreturn\u001b[0m \u001b[0m_wrapfunc\u001b[0m\u001b[1;33m(\u001b[0m\u001b[0ma\u001b[0m\u001b[1;33m,\u001b[0m \u001b[1;34m'cumsum'\u001b[0m\u001b[1;33m,\u001b[0m \u001b[0maxis\u001b[0m\u001b[1;33m=\u001b[0m\u001b[0maxis\u001b[0m\u001b[1;33m,\u001b[0m \u001b[0mdtype\u001b[0m\u001b[1;33m=\u001b[0m\u001b[0mdtype\u001b[0m\u001b[1;33m,\u001b[0m \u001b[0mout\u001b[0m\u001b[1;33m=\u001b[0m\u001b[0mout\u001b[0m\u001b[1;33m)\u001b[0m\u001b[1;33m\u001b[0m\u001b[1;33m\u001b[0m\u001b[0m\n\u001b[0m\u001b[0;32m   2512\u001b[0m \u001b[1;33m\u001b[0m\u001b[0m\n\u001b[0;32m   2513\u001b[0m \u001b[1;33m\u001b[0m\u001b[0m\n",
      "\u001b[1;32m~\\anaconda3\\lib\\site-packages\\numpy\\core\\fromnumeric.py\u001b[0m in \u001b[0;36m_wrapfunc\u001b[1;34m(obj, method, *args, **kwds)\u001b[0m\n\u001b[0;32m     56\u001b[0m \u001b[1;33m\u001b[0m\u001b[0m\n\u001b[0;32m     57\u001b[0m     \u001b[1;32mtry\u001b[0m\u001b[1;33m:\u001b[0m\u001b[1;33m\u001b[0m\u001b[1;33m\u001b[0m\u001b[0m\n\u001b[1;32m---> 58\u001b[1;33m         \u001b[1;32mreturn\u001b[0m \u001b[0mbound\u001b[0m\u001b[1;33m(\u001b[0m\u001b[1;33m*\u001b[0m\u001b[0margs\u001b[0m\u001b[1;33m,\u001b[0m \u001b[1;33m**\u001b[0m\u001b[0mkwds\u001b[0m\u001b[1;33m)\u001b[0m\u001b[1;33m\u001b[0m\u001b[1;33m\u001b[0m\u001b[0m\n\u001b[0m\u001b[0;32m     59\u001b[0m     \u001b[1;32mexcept\u001b[0m \u001b[0mTypeError\u001b[0m\u001b[1;33m:\u001b[0m\u001b[1;33m\u001b[0m\u001b[1;33m\u001b[0m\u001b[0m\n\u001b[0;32m     60\u001b[0m         \u001b[1;31m# A TypeError occurs if the object does have such a method in its\u001b[0m\u001b[1;33m\u001b[0m\u001b[1;33m\u001b[0m\u001b[1;33m\u001b[0m\u001b[0m\n",
      "\u001b[1;31mKeyboardInterrupt\u001b[0m: "
     ]
    }
   ],
   "source": [
    "for i in range(20):\n",
    "    print(\"erreur avec t= 10\",test_with_iterations(Ss , clf ,t=10))\n",
    "    print(\"erreur avec t= 50\",test_with_iterations(Ss , clf,t=50))\n",
    "    print(\"erreur avec t= 100\",test_with_iterations(Ss , clf ,t=100))\n",
    "    print(\"erreur avec t= 200\",test_with_iterations(Ss, clf,t=200))\n",
    "    print(\"erreur avec t= 500\",test_with_iterations(Ss , clf,t=500))\n",
    "    print(\"erreur avec t= 1000\",test_with_iterations(Ss , clf ,t=1000))\n",
    "    print(\"\"\"---------------\"\"\")\n",
    "print(\"pour chaque t, l'erreur moyenne est stable\")"
   ]
  },
  {
   "cell_type": "markdown",
   "id": "851ff79a",
   "metadata": {},
   "source": [
    "<strong>interpréter ce résultat</strong> <br>\n",
    "si t augmente alors l'erreur moyenne devient stable (le modele apprend mieux)"
   ]
  },
  {
   "cell_type": "markdown",
   "id": "898276e9",
   "metadata": {},
   "source": [
    "#### Question d"
   ]
  },
  {
   "cell_type": "code",
   "execution_count": 56,
   "id": "e35574eb",
   "metadata": {},
   "outputs": [],
   "source": [
    "# version 2 du split \n",
    "def split_v2(S):\n",
    "    dataS1 = np.empty(shape=(135,4))\n",
    "    targetS1= np.empty(shape=(135))\n",
    "    dataS2 = S.data\n",
    "    targetS2 = S.target\n",
    "    # La taille est 0.9 S\n",
    "    size= int(0.9*len(S.data))\n",
    "    for i in range(0,size):\n",
    "        j = rd.randint(0,len(dataS2)-1)\n",
    "        dataS1[i] = dataS2[j]\n",
    "        targetS1[i] = targetS2[j]\n",
    "        dataS2 = np.delete(dataS2 , j,0)\n",
    "        targetS2 = np.delete(targetS2,j,0)\n",
    "        \n",
    "    return [dataS1 , targetS1 , dataS2 , targetS2]"
   ]
  },
  {
   "cell_type": "code",
   "execution_count": null,
   "id": "d81e7fa4",
   "metadata": {},
   "outputs": [],
   "source": [
    "Ss_v2 = split_v2(irisData)\n",
    "for i in range(20):\n",
    "    print(\"erreur avec t= 10\",test_with_iterations(Ss_v2 , clf ,t=10))\n",
    "    print(\"erreur avec t= 50\",test_with_iterations(Ss_v2 , clf,t=50))\n",
    "    print(\"erreur avec t= 100\",test_with_iterations(Ss_v2 , clf ,t=100))\n",
    "    print(\"erreur avec t= 200\",test_with_iterations(Ss_v2, clf,t=200))\n",
    "    print(\"erreur avec t= 500\",test_with_iterations(Ss_v2 , clf,t=500))\n",
    "    print(\"erreur avec t= 1000\",test_with_iterations(Ss_v2 , clf ,t=1000))\n",
    "    print(\"\"\"---------------\"\"\")"
   ]
  },
  {
   "cell_type": "markdown",
   "id": "459a2dc5",
   "metadata": {},
   "source": [
    "L'erreur estimée n'est pas la meme dans le cas d'un echantillon de test qui ne prend que 10%"
   ]
  },
  {
   "cell_type": "markdown",
   "id": "0a2cf584",
   "metadata": {},
   "source": [
    "#### Question e et f"
   ]
  },
  {
   "cell_type": "code",
   "execution_count": 57,
   "id": "4b5b09c8",
   "metadata": {},
   "outputs": [
    {
     "name": "stdout",
     "output_type": "stream",
     "text": [
      "pour le test size :0.1\n",
      "Lerreur est: 0.32592592592592595\n",
      "pour le test size :0.2\n",
      "Lerreur est: 0.3416666666666667\n",
      "pour le test size :0.25\n",
      "Lerreur est: 0.36283185840707965\n",
      "pour le test size :0.33\n",
      "Lerreur est: 0.3465346534653465\n",
      "pour le test size :0.5\n",
      "Lerreur est: 0.3866666666666667\n"
     ]
    }
   ],
   "source": [
    "from sklearn.model_selection import train_test_split \n",
    "sizes = [0.1,0.2,0.25,0.33,0.5]\n",
    "for i in sizes:\n",
    "    D_train , D_test ,C_train, C_test = train_test_split(irisData.data, irisData.target, train_size=i)\n",
    "    clf.fit(D_train , C_train)\n",
    "    prediction = clf.predict(D_test)\n",
    "    print('pour le test size :' + str(i))\n",
    "    print('Lerreur est: '+ str(1- clf.score(np.array(D_test), np.array(C_test))))"
   ]
  },
  {
   "cell_type": "markdown",
   "id": "0c16b7e4",
   "metadata": {},
   "source": [
    "#### Interpretation"
   ]
  },
  {
   "cell_type": "markdown",
   "id": "9a239488",
   "metadata": {},
   "source": []
  },
  {
   "cell_type": "markdown",
   "id": "7215fdf1",
   "metadata": {},
   "source": [
    "### 2.2 Estimer l'erreur réelle par validation croisée"
   ]
  },
  {
   "cell_type": "code",
   "execution_count": 58,
   "id": "0622a95e",
   "metadata": {},
   "outputs": [
    {
     "name": "stdout",
     "output_type": "stream",
     "text": [
      "using cross validation\n",
      "pour 2 folds\n",
      "[0.96       0.94666667]\n",
      "pour 3 folds\n",
      "[0.96 0.92 0.96]\n",
      "pour 5 folds\n",
      "[1.         0.96666667 0.9        0.9        1.        ]\n",
      "pour 8 folds\n",
      "[1.         1.         0.94736842 0.89473684 0.89473684 0.84210526\n",
      " 1.         1.        ]\n"
     ]
    }
   ],
   "source": [
    "print('using cross validation')\n",
    "from sklearn.model_selection import cross_val_score\n",
    "folds = [2,3,5,8]\n",
    "for i in folds:\n",
    "    print(f\"pour {i} folds\")\n",
    "    print(cross_val_score(clf,irisData.data,irisData.target,cv=i))"
   ]
  },
  {
   "cell_type": "code",
   "execution_count": null,
   "id": "904ca0b8",
   "metadata": {},
   "outputs": [],
   "source": []
  }
 ],
 "metadata": {
  "kernelspec": {
   "display_name": "Python 3",
   "language": "python",
   "name": "python3"
  },
  "language_info": {
   "codemirror_mode": {
    "name": "ipython",
    "version": 3
   },
   "file_extension": ".py",
   "mimetype": "text/x-python",
   "name": "python",
   "nbconvert_exporter": "python",
   "pygments_lexer": "ipython3",
   "version": "3.8.8"
  }
 },
 "nbformat": 4,
 "nbformat_minor": 5
}
